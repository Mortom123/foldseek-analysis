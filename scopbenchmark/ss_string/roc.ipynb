{
 "cells": [
  {
   "cell_type": "code",
   "execution_count": 1,
   "outputs": [],
   "source": [
    "import pandas as pd"
   ],
   "metadata": {
    "collapsed": false,
    "pycharm": {
     "name": "#%%\n"
    }
   }
  },
  {
   "cell_type": "code",
   "execution_count": 9,
   "outputs": [],
   "source": [
    "ss = pd.read_csv(\"ss_strings_dssp_nc.rocx\", sep=\"\\t\")"
   ],
   "metadata": {
    "collapsed": false,
    "pycharm": {
     "name": "#%%\n"
    }
   }
  },
  {
   "cell_type": "code",
   "execution_count": 10,
   "outputs": [],
   "source": [
    "fold = pd.read_csv(r\"..\\data\\alignResults\\rocx\\foldseek.rocx\", sep=\"\\t\")"
   ],
   "metadata": {
    "collapsed": false,
    "pycharm": {
     "name": "#%%\n"
    }
   }
  },
  {
   "cell_type": "code",
   "execution_count": 11,
   "outputs": [
    {
     "data": {
      "text/plain": "         NAME       SCOP       FAM      SFAM  FOLD  FP  FAMCNT  SFAMCNT  \\\n0     d2hgsa4  d.142.1.6  1.000000  0.000000   0.0   5       2       22   \n1     d2foka2   a.4.5.12  0.333333  0.000000   0.0   5       3      193   \n2     d1fsea_    a.4.6.2  0.200000  0.000000   0.0   5       5       13   \n3     d2e1ba2   d.67.1.2  0.500000  0.000000   0.0   5       2        3   \n4     d1gtea1    a.1.2.2  1.000000  0.000000   0.0   5       1        4   \n...       ...        ...       ...       ...   ...  ..     ...      ...   \n4224  d2e1ba1   b.43.3.6  1.000000  0.000000   0.0   5       1       20   \n4225  d2foka1   a.4.5.12  0.333333  0.000000   0.0   5       3      193   \n4226  d2rn8a1   b.34.2.1  0.083333  0.166667   0.0   5      36       42   \n4227  d2bpta_  a.118.1.0  0.333333  0.121951   0.0   5       3       44   \n4228  d1kcqa_  d.109.1.1  0.285714  0.000000   0.0   5       7       15   \n\n      FOLDCNT  \n0          30  \n1         335  \n2         335  \n3          10  \n4          51  \n...       ...  \n4224       43  \n4225      335  \n4226      137  \n4227      111  \n4228       18  \n\n[4229 rows x 9 columns]",
      "text/html": "<div>\n<style scoped>\n    .dataframe tbody tr th:only-of-type {\n        vertical-align: middle;\n    }\n\n    .dataframe tbody tr th {\n        vertical-align: top;\n    }\n\n    .dataframe thead th {\n        text-align: right;\n    }\n</style>\n<table border=\"1\" class=\"dataframe\">\n  <thead>\n    <tr style=\"text-align: right;\">\n      <th></th>\n      <th>NAME</th>\n      <th>SCOP</th>\n      <th>FAM</th>\n      <th>SFAM</th>\n      <th>FOLD</th>\n      <th>FP</th>\n      <th>FAMCNT</th>\n      <th>SFAMCNT</th>\n      <th>FOLDCNT</th>\n    </tr>\n  </thead>\n  <tbody>\n    <tr>\n      <th>0</th>\n      <td>d2hgsa4</td>\n      <td>d.142.1.6</td>\n      <td>1.000000</td>\n      <td>0.000000</td>\n      <td>0.0</td>\n      <td>5</td>\n      <td>2</td>\n      <td>22</td>\n      <td>30</td>\n    </tr>\n    <tr>\n      <th>1</th>\n      <td>d2foka2</td>\n      <td>a.4.5.12</td>\n      <td>0.333333</td>\n      <td>0.000000</td>\n      <td>0.0</td>\n      <td>5</td>\n      <td>3</td>\n      <td>193</td>\n      <td>335</td>\n    </tr>\n    <tr>\n      <th>2</th>\n      <td>d1fsea_</td>\n      <td>a.4.6.2</td>\n      <td>0.200000</td>\n      <td>0.000000</td>\n      <td>0.0</td>\n      <td>5</td>\n      <td>5</td>\n      <td>13</td>\n      <td>335</td>\n    </tr>\n    <tr>\n      <th>3</th>\n      <td>d2e1ba2</td>\n      <td>d.67.1.2</td>\n      <td>0.500000</td>\n      <td>0.000000</td>\n      <td>0.0</td>\n      <td>5</td>\n      <td>2</td>\n      <td>3</td>\n      <td>10</td>\n    </tr>\n    <tr>\n      <th>4</th>\n      <td>d1gtea1</td>\n      <td>a.1.2.2</td>\n      <td>1.000000</td>\n      <td>0.000000</td>\n      <td>0.0</td>\n      <td>5</td>\n      <td>1</td>\n      <td>4</td>\n      <td>51</td>\n    </tr>\n    <tr>\n      <th>...</th>\n      <td>...</td>\n      <td>...</td>\n      <td>...</td>\n      <td>...</td>\n      <td>...</td>\n      <td>...</td>\n      <td>...</td>\n      <td>...</td>\n      <td>...</td>\n    </tr>\n    <tr>\n      <th>4224</th>\n      <td>d2e1ba1</td>\n      <td>b.43.3.6</td>\n      <td>1.000000</td>\n      <td>0.000000</td>\n      <td>0.0</td>\n      <td>5</td>\n      <td>1</td>\n      <td>20</td>\n      <td>43</td>\n    </tr>\n    <tr>\n      <th>4225</th>\n      <td>d2foka1</td>\n      <td>a.4.5.12</td>\n      <td>0.333333</td>\n      <td>0.000000</td>\n      <td>0.0</td>\n      <td>5</td>\n      <td>3</td>\n      <td>193</td>\n      <td>335</td>\n    </tr>\n    <tr>\n      <th>4226</th>\n      <td>d2rn8a1</td>\n      <td>b.34.2.1</td>\n      <td>0.083333</td>\n      <td>0.166667</td>\n      <td>0.0</td>\n      <td>5</td>\n      <td>36</td>\n      <td>42</td>\n      <td>137</td>\n    </tr>\n    <tr>\n      <th>4227</th>\n      <td>d2bpta_</td>\n      <td>a.118.1.0</td>\n      <td>0.333333</td>\n      <td>0.121951</td>\n      <td>0.0</td>\n      <td>5</td>\n      <td>3</td>\n      <td>44</td>\n      <td>111</td>\n    </tr>\n    <tr>\n      <th>4228</th>\n      <td>d1kcqa_</td>\n      <td>d.109.1.1</td>\n      <td>0.285714</td>\n      <td>0.000000</td>\n      <td>0.0</td>\n      <td>5</td>\n      <td>7</td>\n      <td>15</td>\n      <td>18</td>\n    </tr>\n  </tbody>\n</table>\n<p>4229 rows × 9 columns</p>\n</div>"
     },
     "execution_count": 11,
     "metadata": {},
     "output_type": "execute_result"
    }
   ],
   "source": [
    "ss"
   ],
   "metadata": {
    "collapsed": false,
    "pycharm": {
     "name": "#%%\n"
    }
   }
  },
  {
   "cell_type": "code",
   "execution_count": 12,
   "outputs": [
    {
     "data": {
      "text/plain": "         NAME       SCOP       FAM      SFAM      FOLD  FP  FAMCNT  SFAMCNT  \\\n0     d2foka2   a.4.5.12  0.666667  0.336842  0.000000   5       3      193   \n1     d1fsea_    a.4.6.2  1.000000  0.250000  0.242236   5       5       13   \n2     d2hgsa4  d.142.1.6  1.000000  0.250000  0.000000   5       2       22   \n3     d1gtea1    a.1.2.2  1.000000  0.666667  0.000000   5       1        4   \n4     d2e1ba2   d.67.1.2  1.000000  1.000000  0.000000   5       2        3   \n...       ...        ...       ...       ...       ...  ..     ...      ...   \n4224  d2bpta_  a.118.1.0  0.333333  0.512195  0.089552   5       3       44   \n4225  d1kcqa_  d.109.1.1  1.000000  0.875000  0.666667   5       7       15   \n4226  d2rn8a1   b.34.2.1  1.000000  1.000000  0.000000   5      36       42   \n4227  d3bpka_   b.45.1.0  1.000000  0.888889  0.000000   5       7       34   \n4228  d2e1ba1   b.43.3.6  1.000000  0.052632  0.173913   5       1       20   \n\n      FOLDCNT  \n0         335  \n1         335  \n2          30  \n3          51  \n4          10  \n...       ...  \n4224      111  \n4225       18  \n4226      137  \n4227       38  \n4228       43  \n\n[4229 rows x 9 columns]",
      "text/html": "<div>\n<style scoped>\n    .dataframe tbody tr th:only-of-type {\n        vertical-align: middle;\n    }\n\n    .dataframe tbody tr th {\n        vertical-align: top;\n    }\n\n    .dataframe thead th {\n        text-align: right;\n    }\n</style>\n<table border=\"1\" class=\"dataframe\">\n  <thead>\n    <tr style=\"text-align: right;\">\n      <th></th>\n      <th>NAME</th>\n      <th>SCOP</th>\n      <th>FAM</th>\n      <th>SFAM</th>\n      <th>FOLD</th>\n      <th>FP</th>\n      <th>FAMCNT</th>\n      <th>SFAMCNT</th>\n      <th>FOLDCNT</th>\n    </tr>\n  </thead>\n  <tbody>\n    <tr>\n      <th>0</th>\n      <td>d2foka2</td>\n      <td>a.4.5.12</td>\n      <td>0.666667</td>\n      <td>0.336842</td>\n      <td>0.000000</td>\n      <td>5</td>\n      <td>3</td>\n      <td>193</td>\n      <td>335</td>\n    </tr>\n    <tr>\n      <th>1</th>\n      <td>d1fsea_</td>\n      <td>a.4.6.2</td>\n      <td>1.000000</td>\n      <td>0.250000</td>\n      <td>0.242236</td>\n      <td>5</td>\n      <td>5</td>\n      <td>13</td>\n      <td>335</td>\n    </tr>\n    <tr>\n      <th>2</th>\n      <td>d2hgsa4</td>\n      <td>d.142.1.6</td>\n      <td>1.000000</td>\n      <td>0.250000</td>\n      <td>0.000000</td>\n      <td>5</td>\n      <td>2</td>\n      <td>22</td>\n      <td>30</td>\n    </tr>\n    <tr>\n      <th>3</th>\n      <td>d1gtea1</td>\n      <td>a.1.2.2</td>\n      <td>1.000000</td>\n      <td>0.666667</td>\n      <td>0.000000</td>\n      <td>5</td>\n      <td>1</td>\n      <td>4</td>\n      <td>51</td>\n    </tr>\n    <tr>\n      <th>4</th>\n      <td>d2e1ba2</td>\n      <td>d.67.1.2</td>\n      <td>1.000000</td>\n      <td>1.000000</td>\n      <td>0.000000</td>\n      <td>5</td>\n      <td>2</td>\n      <td>3</td>\n      <td>10</td>\n    </tr>\n    <tr>\n      <th>...</th>\n      <td>...</td>\n      <td>...</td>\n      <td>...</td>\n      <td>...</td>\n      <td>...</td>\n      <td>...</td>\n      <td>...</td>\n      <td>...</td>\n      <td>...</td>\n    </tr>\n    <tr>\n      <th>4224</th>\n      <td>d2bpta_</td>\n      <td>a.118.1.0</td>\n      <td>0.333333</td>\n      <td>0.512195</td>\n      <td>0.089552</td>\n      <td>5</td>\n      <td>3</td>\n      <td>44</td>\n      <td>111</td>\n    </tr>\n    <tr>\n      <th>4225</th>\n      <td>d1kcqa_</td>\n      <td>d.109.1.1</td>\n      <td>1.000000</td>\n      <td>0.875000</td>\n      <td>0.666667</td>\n      <td>5</td>\n      <td>7</td>\n      <td>15</td>\n      <td>18</td>\n    </tr>\n    <tr>\n      <th>4226</th>\n      <td>d2rn8a1</td>\n      <td>b.34.2.1</td>\n      <td>1.000000</td>\n      <td>1.000000</td>\n      <td>0.000000</td>\n      <td>5</td>\n      <td>36</td>\n      <td>42</td>\n      <td>137</td>\n    </tr>\n    <tr>\n      <th>4227</th>\n      <td>d3bpka_</td>\n      <td>b.45.1.0</td>\n      <td>1.000000</td>\n      <td>0.888889</td>\n      <td>0.000000</td>\n      <td>5</td>\n      <td>7</td>\n      <td>34</td>\n      <td>38</td>\n    </tr>\n    <tr>\n      <th>4228</th>\n      <td>d2e1ba1</td>\n      <td>b.43.3.6</td>\n      <td>1.000000</td>\n      <td>0.052632</td>\n      <td>0.173913</td>\n      <td>5</td>\n      <td>1</td>\n      <td>20</td>\n      <td>43</td>\n    </tr>\n  </tbody>\n</table>\n<p>4229 rows × 9 columns</p>\n</div>"
     },
     "execution_count": 12,
     "metadata": {},
     "output_type": "execute_result"
    }
   ],
   "source": [
    "fold"
   ],
   "metadata": {
    "collapsed": false,
    "pycharm": {
     "name": "#%%\n"
    }
   }
  },
  {
   "cell_type": "code",
   "execution_count": 29,
   "outputs": [
    {
     "data": {
      "text/plain": "<Figure size 432x288 with 1 Axes>",
      "image/png": "[encoded data removed]"
     },
     "metadata": {
      "needs_background": "light"
     },
     "output_type": "display_data"
    }
   ],
   "source": [
    "import numpy as np\n",
    "import matplotlib.pyplot as plt\n",
    "\n",
    "key = \"FAM\"\n",
    "def get_sens_percentile1(x):\n",
    "    return (fold[key] >= x).sum()/len(fold)\n",
    "\n",
    "def get_sens_percentile2(x):\n",
    "    return (ss[key] >= x).sum()/len(fold)\n",
    "\n",
    "percentages = np.linspace(0,1,101)\n",
    "fractions1 = np.vectorize(get_sens_percentile1)(percentages)\n",
    "fractions2 = np.vectorize(get_sens_percentile2)(percentages)\n",
    "plt.grid()\n",
    "plt.plot(fractions1, percentages)\n",
    "plt.plot(fractions2, percentages)\n",
    "plt.show()"
   ],
   "metadata": {
    "collapsed": false,
    "pycharm": {
     "name": "#%%\n"
    }
   }
  },
  {
   "cell_type": "code",
   "execution_count": null,
   "outputs": [],
   "source": [],
   "metadata": {
    "collapsed": false,
    "pycharm": {
     "name": "#%%\n"
    }
   }
  }
 ],
 "metadata": {
  "kernelspec": {
   "display_name": "Python 3",
   "language": "python",
   "name": "python3"
  },
  "language_info": {
   "codemirror_mode": {
    "name": "ipython",
    "version": 2
   },
   "file_extension": ".py",
   "mimetype": "text/x-python",
   "name": "python",
   "nbconvert_exporter": "python",
   "pygments_lexer": "ipython2",
   "version": "2.7.6"
  }
 },
 "nbformat": 4,
 "nbformat_minor": 0
}